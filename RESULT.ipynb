{
 "cells": [
  {
   "cell_type": "markdown",
   "metadata": {},
   "source": [
    "# Решение команды Iron Instruments 🔧🔨"
   ]
  },
  {
   "cell_type": "markdown",
   "metadata": {},
   "source": [
    "Открытие файлов"
   ]
  },
  {
   "cell_type": "code",
   "execution_count": 1,
   "metadata": {},
   "outputs": [],
   "source": [
    "import pandas as pd\n",
    "file_CountryMap = 'Country-Code-Mapping.csv'\n",
    "file_Codebook   = 'HackerRank-Developer-Survey-2018-Codebook.csv'\n",
    "file_NumericMap = 'HackerRank-Developer-Survey-2018-Numeric-Mapping.csv'\n",
    "file_Numeric    = 'HackerRank-Developer-Survey-2018-Numeric.csv'"
   ]
  },
  {
   "cell_type": "code",
   "execution_count": 2,
   "metadata": {},
   "outputs": [],
   "source": [
    "# датафреймы, полученные из каждого файла\n",
    "df_CountryMap = pd.read_csv(file_CountryMap, low_memory=False)\n",
    "df_Codebook   = pd.read_csv(file_Codebook,   low_memory=False)\n",
    "df_NumericMap = pd.read_csv(file_NumericMap, low_memory=False)\n",
    "df_Numeric    = pd.read_csv(file_Numeric,    low_memory=False)"
   ]
  },
  {
   "cell_type": "markdown",
   "metadata": {},
   "source": [
    "## Задание 1\n",
    "### Какое число опрошенных программистов из России?"
   ]
  },
  {
   "cell_type": "code",
   "execution_count": 3,
   "metadata": {},
   "outputs": [],
   "source": [
    "# страна исследования\n",
    "country = 'Russian Federation'"
   ]
  },
  {
   "cell_type": "code",
   "execution_count": 4,
   "metadata": {},
   "outputs": [],
   "source": [
    "# поиск кода страны по ее названию в map-файле\n",
    "# сперва находим индекс строки, в которой содержится информации о стране\n",
    "country_index = df_CountryMap['Label'].tolist().index(country)\n",
    "# по индексу определяем код страны\n",
    "country_code  = df_CountryMap['Value'].values[country_index]"
   ]
  },
  {
   "cell_type": "code",
   "execution_count": 5,
   "metadata": {},
   "outputs": [
    {
     "name": "stdout",
     "output_type": "stream",
     "text": [
      "Ответ на задание 1: Кол-во программистов из России: 378\n"
     ]
    }
   ],
   "source": [
    "# Поиск количества программистов из России\n",
    "Programmers = df_Numeric.groupby('CountryNumeric2').size()\n",
    "RussianProgrammers = Programmers[country_code]\n",
    "print('Ответ на задание 1: Кол-во программистов из России: ' + str(RussianProgrammers))"
   ]
  },
  {
   "cell_type": "markdown",
   "metadata": {},
   "source": [
    "## Задание 2\n",
    "### Какой процент от программистов из России – студенты?"
   ]
  },
  {
   "cell_type": "code",
   "execution_count": 6,
   "metadata": {},
   "outputs": [
    {
     "name": "stdout",
     "output_type": "stream",
     "text": [
      "Ответ на задание 2: Процент студентов из российских программистов: 12.96 %\n"
     ]
    }
   ],
   "source": [
    "# Поиск числа студентов-программистов из России\n",
    "RussianStudProg = df_Numeric.groupby(['CountryNumeric2', 'q8Student']).size()[country_code]\n",
    "# Вычисление процента студентов из числа програмиистов из России\n",
    "RussianStudProg = round(100*RussianStudProg[1]/RussianProgrammers,2)\n",
    "print('Ответ на задание 2: Процент студентов из российских программистов: ' + str(RussianStudProg) + ' %')"
   ]
  },
  {
   "cell_type": "markdown",
   "metadata": {},
   "source": [
    "## Задание 3\n",
    "###  Какой процент от общего числа опрошенных сейчас занимается Data Science? Web-разработкой? Мобильной разработкой?"
   ]
  },
  {
   "cell_type": "code",
   "execution_count": 7,
   "metadata": {},
   "outputs": [],
   "source": [
    "#Получение кода вопроса задания (подсчет по профессиям) в переменную qcode из файла codebook \n",
    "qcode = df_Codebook[df_Codebook['Survey Question'] == 'Which one of these best describes your current role?']['Data Field'].values[0]"
   ]
  },
  {
   "cell_type": "code",
   "execution_count": 8,
   "metadata": {},
   "outputs": [],
   "source": [
    "#webcode, datacode, mobilecode - кодировка соответствующих профессий для соответствующего вопроса из файла Numeric-Mapping \n",
    "webcode    = df_NumericMap[(df_NumericMap['Data Field'] == qcode) & (df_NumericMap.Label == 'Web Developer')]['Value'].values[0]\n",
    "datacode   = df_NumericMap[(df_NumericMap['Data Field'] == qcode) & (df_NumericMap.Label == 'Data Scientist')]['Value'].values[0]\n",
    "mobilecode = df_NumericMap[(df_NumericMap['Data Field'] == qcode) & (df_NumericMap.Label == 'Mobile Developer')]['Value'].values[0]"
   ]
  },
  {
   "cell_type": "code",
   "execution_count": 9,
   "metadata": {},
   "outputs": [
    {
     "name": "stdout",
     "output_type": "stream",
     "text": [
      "Процент опрошенных, занимающихся Data Science: 1.0 %\n",
      "Процент опрошенных, занимающихся Web-разработкой: 3.99 %\n",
      "Процент опрошенных, занимающихся мобильной разработкой: 0.51 %\n"
     ]
    }
   ],
   "source": [
    "#Подсчет количества людей соответствующих профессий и вывод их процентного соотношения от общего числа опрошенных\n",
    "num_g = df_Numeric.groupby(qcode).size()\n",
    "PeopleNumber = len(df_Numeric.values)\n",
    "print('Процент опрошенных, занимающихся Data Science:', round(num_g[datacode]/PeopleNumber*100, 2), '%')\n",
    "print('Процент опрошенных, занимающихся Web-разработкой:', round(num_g[webcode]/PeopleNumber*100, 2), '%')\n",
    "print('Процент опрошенных, занимающихся мобильной разработкой:', round(num_g[mobilecode]/PeopleNumber*100, 2), '%')"
   ]
  },
  {
   "cell_type": "markdown",
   "metadata": {},
   "source": [
    "## Задание 4\n",
    "###  Какой процент от программистов из России правильно ответили на каждый вопрос?"
   ]
  },
  {
   "cell_type": "code",
   "execution_count": 10,
   "metadata": {},
   "outputs": [],
   "source": [
    "# Задаём правильные ответы на вопросы\n",
    "label = ['C', 'prints \"Hello, World!\" n times', 'num%2 == 0', 'Queue']\n",
    "# Задаём Data Field для вопросов\n",
    "question_name = ['q7Level1', 'q15Level2', 'q31Level3', 'q36Level4']\n",
    "# Для удобства в дальнейшем записываем количество вопросов\n",
    "iter = len(question_name)\n",
    "# Находим коды (значения) соответствующие правильным ответам на вопросы\n",
    "question_true_code = []\n",
    "for i in range(iter):\n",
    "    question_true_code.append(int(df_NumericMap[(df_NumericMap['Data Field'] == question_name[i]) & (df_NumericMap['Label'] == label[i])]['Value'].values[0]))"
   ]
  },
  {
   "cell_type": "code",
   "execution_count": 11,
   "metadata": {},
   "outputs": [],
   "source": [
    "# Получаем список стран каждого участника опроса\n",
    "countries = df_Numeric['CountryNumeric2'].tolist()\n",
    "# Получаем списки ответов каждого участника опроса\n",
    "level = []\n",
    "for i in range(iter):\n",
    "    level.append(df_Numeric[question_name[i]].tolist())"
   ]
  },
  {
   "cell_type": "code",
   "execution_count": 12,
   "metadata": {},
   "outputs": [],
   "source": [
    "# Подсчитываем, сколько программистов из России правильно ответили на все вопросы \n",
    "rus_prog_true = 0\n",
    "for i in range(len(countries)):\n",
    "    # Рассматриваем только программистов из России\n",
    "    if countries[i] == country_code:\n",
    "        flag = True\n",
    "        # Для каждого программиста из России проверяем правильность ответа на вопросы\n",
    "        for j in range(iter):\n",
    "            if int(level[j][i]) != question_true_code[j]:\n",
    "                flag = False\n",
    "                break\n",
    "        # В случае отсутствия неправильных ответов увеличиваем количество правильно ответивших программистов из России\n",
    "        if flag:\n",
    "            rus_prog_true += 1"
   ]
  },
  {
   "cell_type": "code",
   "execution_count": 13,
   "metadata": {},
   "outputs": [
    {
     "name": "stdout",
     "output_type": "stream",
     "text": [
      "Ответ на задание 4: Процент программистов из России, правильно ответивших на все вопросы: 77.51 %\n"
     ]
    }
   ],
   "source": [
    "# Рассчитываем и выводим, сколько процентов от программистов из России состаляют правильно ответившие на вопросы\n",
    "percent_rus_true = round(100 * rus_prog_true / RussianProgrammers, 2)\n",
    "print('Ответ на задание 4: Процент программистов из России, правильно ответивших на все вопросы: {} %'.format(percent_rus_true))"
   ]
  },
  {
   "cell_type": "markdown",
   "metadata": {},
   "source": [
    "## Дополнительное задание - визуализация данных\n",
    "Импорт библиотеки Plotly и чтение из файла"
   ]
  },
  {
   "cell_type": "code",
   "execution_count": 14,
   "metadata": {},
   "outputs": [
    {
     "data": {
      "text/html": [
       "<script>requirejs.config({paths: { 'plotly': ['https://cdn.plot.ly/plotly-latest.min']},});if(!window.Plotly) {{require(['plotly'],function(plotly) {window.Plotly=plotly;});}}</script>"
      ],
      "text/vnd.plotly.v1+html": [
       "<script>requirejs.config({paths: { 'plotly': ['https://cdn.plot.ly/plotly-latest.min']},});if(!window.Plotly) {{require(['plotly'],function(plotly) {window.Plotly=plotly;});}}</script>"
      ]
     },
     "metadata": {},
     "output_type": "display_data"
    }
   ],
   "source": [
    "from plotly.offline import download_plotlyjs, init_notebook_mode, plot, iplot\n",
    "import plotly\n",
    "import plotly.graph_objs as go\n",
    "\n",
    "df = pd.read_csv(\"HackerRank-Developer-Survey-2018-Values.csv\", low_memory=False)\n",
    "init_notebook_mode ( connected = True )"
   ]
  },
  {
   "cell_type": "markdown",
   "metadata": {},
   "source": [
    "### Какое количество программистов из каждой страны приняло участие в опросе"
   ]
  },
  {
   "cell_type": "code",
   "execution_count": 15,
   "metadata": {
    "scrolled": false
   },
   "outputs": [
    {
     "data": {
      "application/vnd.plotly.v1+json": {
       "data": [
        {
         "type": "bar",
         "x": [
          "Afghanistan",
          "Albania",
          "Algeria",
          "American Samoa",
          "Andorra",
          "Angola",
          "Argentina",
          "Armenia",
          "Asia/Pacific Region",
          "Australia",
          "Austria",
          "Azerbaijan",
          "Bangladesh",
          "Barbados",
          "Belarus",
          "Belgium",
          "Belize",
          "Bermuda",
          "Bolivia",
          "Bosnia and Herzegovina",
          "Brazil",
          "British Indian Ocean Territory",
          "Bulgaria",
          "CN",
          "Cambodia",
          "Cameroon",
          "Canada",
          "Cayman Islands",
          "Chennai",
          "Chile",
          "China",
          "Colombia",
          "Costa Rica",
          "Cote D'Ivoire",
          "Croatia",
          "Cuba",
          "Curaçao",
          "Cyprus",
          "Czech Republic",
          "Czechia",
          "Denmark",
          "Dominican Republic",
          "Ecuador",
          "Egypt",
          "El Salvador",
          "Estonia",
          "Ethiopia",
          "Europe",
          "Finland",
          "France",
          "Georgia",
          "Germany",
          "Ghana",
          "Greece",
          "Guam",
          "Guatemala",
          "Guinea",
          "Haiti",
          "Honduras",
          "Hong Kong",
          "Hungary",
          "Iceland",
          "India",
          "Indonesia",
          "Iran",
          "Iraq",
          "Ireland",
          "Israel",
          "Italy",
          "Jamaica",
          "Japan",
          "Jordan",
          "Kazakhstan",
          "Kenya",
          "Kosovo",
          "Kuwait",
          "Kyrgyzstan",
          "Latvia",
          "Lebanon",
          "Libya",
          "Lithuania",
          "Luxembourg",
          "Macao",
          "Macedonia",
          "Madagascar",
          "Malaysia",
          "Maldives",
          "Malta",
          "Mauritius",
          "Mexico",
          "Moldova",
          "Mongolia",
          "Montenegro",
          "Morocco",
          "Myanmar",
          "Namibia",
          "Nepal",
          "Netherlands",
          "New Zealand",
          "Nigeria",
          "North Korea",
          "Norway",
          "Oman",
          "Pakistan",
          "Palestine",
          "Panama",
          "Papua New Guinea",
          "Paraguay",
          "Peru",
          "Philippines",
          "Poland",
          "Portugal",
          "Puerto Rico",
          "Qatar",
          "Republic of Lithuania",
          "Republic of Moldova",
          "Romania",
          "Russian Federation",
          "Saudi Arabia",
          "Senegal",
          "Serbia",
          "Singapore",
          "Slovak Republic",
          "Slovenia",
          "Somalia",
          "South Africa",
          "South Korea",
          "Spain",
          "Sri Lanka",
          "Sudan",
          "Swaziland",
          "Sweden",
          "Switzerland",
          "Syrian Arab Republic",
          "Taiwan",
          "Tajikistan",
          "Tanzania",
          "Thailand",
          "Togo",
          "Tunisia",
          "Turkey",
          "Uganda",
          "Ukraine",
          "United Arab Emirates",
          "United Kingdom",
          "United States",
          "Uruguay",
          "Uzbekistan",
          "Venezuela",
          "Vietnam",
          "Yemen",
          "Zimbabwe"
         ],
         "y": [
          3,
          8,
          22,
          1,
          1,
          1,
          106,
          14,
          9,
          161,
          28,
          16,
          174,
          1,
          58,
          27,
          1,
          1,
          9,
          11,
          502,
          1,
          91,
          1,
          4,
          6,
          642,
          1,
          1,
          62,
          51,
          81,
          19,
          1,
          41,
          9,
          1,
          11,
          59,
          12,
          54,
          11,
          8,
          119,
          5,
          23,
          3,
          7,
          28,
          152,
          12,
          258,
          11,
          73,
          1,
          6,
          2,
          1,
          2,
          44,
          116,
          1,
          8088,
          387,
          23,
          1,
          66,
          78,
          143,
          11,
          49,
          10,
          36,
          36,
          1,
          2,
          1,
          17,
          5,
          1,
          20,
          3,
          1,
          20,
          2,
          86,
          2,
          3,
          5,
          181,
          4,
          11,
          1,
          24,
          2,
          1,
          38,
          128,
          40,
          102,
          1,
          23,
          3,
          138,
          10,
          8,
          1,
          5,
          23,
          93,
          248,
          113,
          10,
          3,
          5,
          4,
          174,
          378,
          9,
          3,
          51,
          183,
          35,
          13,
          1,
          96,
          73,
          166,
          145,
          12,
          1,
          87,
          52,
          2,
          57,
          2,
          3,
          26,
          1,
          17,
          250,
          7,
          187,
          24,
          443,
          4937,
          12,
          7,
          29,
          109,
          1,
          4
         ]
        }
       ],
       "layout": {
        "title": "Распределение участников по странам"
       }
      },
      "text/html": [
       "<div id=\"403e1248-020c-418d-8d2b-a6dba967067a\" style=\"height: 525px; width: 100%;\" class=\"plotly-graph-div\"></div><script type=\"text/javascript\">require([\"plotly\"], function(Plotly) { window.PLOTLYENV=window.PLOTLYENV || {};window.PLOTLYENV.BASE_URL=\"https://plot.ly\";Plotly.newPlot(\"403e1248-020c-418d-8d2b-a6dba967067a\", [{\"type\": \"bar\", \"x\": [\"Afghanistan\", \"Albania\", \"Algeria\", \"American Samoa\", \"Andorra\", \"Angola\", \"Argentina\", \"Armenia\", \"Asia/Pacific Region\", \"Australia\", \"Austria\", \"Azerbaijan\", \"Bangladesh\", \"Barbados\", \"Belarus\", \"Belgium\", \"Belize\", \"Bermuda\", \"Bolivia\", \"Bosnia and Herzegovina\", \"Brazil\", \"British Indian Ocean Territory\", \"Bulgaria\", \"CN\", \"Cambodia\", \"Cameroon\", \"Canada\", \"Cayman Islands\", \"Chennai\", \"Chile\", \"China\", \"Colombia\", \"Costa Rica\", \"Cote D'Ivoire\", \"Croatia\", \"Cuba\", \"Cura\\u00e7ao\", \"Cyprus\", \"Czech Republic\", \"Czechia\", \"Denmark\", \"Dominican Republic\", \"Ecuador\", \"Egypt\", \"El Salvador\", \"Estonia\", \"Ethiopia\", \"Europe\", \"Finland\", \"France\", \"Georgia\", \"Germany\", \"Ghana\", \"Greece\", \"Guam\", \"Guatemala\", \"Guinea\", \"Haiti\", \"Honduras\", \"Hong Kong\", \"Hungary\", \"Iceland\", \"India\", \"Indonesia\", \"Iran\", \"Iraq\", \"Ireland\", \"Israel\", \"Italy\", \"Jamaica\", \"Japan\", \"Jordan\", \"Kazakhstan\", \"Kenya\", \"Kosovo\", \"Kuwait\", \"Kyrgyzstan\", \"Latvia\", \"Lebanon\", \"Libya\", \"Lithuania\", \"Luxembourg\", \"Macao\", \"Macedonia\", \"Madagascar\", \"Malaysia\", \"Maldives\", \"Malta\", \"Mauritius\", \"Mexico\", \"Moldova\", \"Mongolia\", \"Montenegro\", \"Morocco\", \"Myanmar\", \"Namibia\", \"Nepal\", \"Netherlands\", \"New Zealand\", \"Nigeria\", \"North Korea\", \"Norway\", \"Oman\", \"Pakistan\", \"Palestine\", \"Panama\", \"Papua New Guinea\", \"Paraguay\", \"Peru\", \"Philippines\", \"Poland\", \"Portugal\", \"Puerto Rico\", \"Qatar\", \"Republic of Lithuania\", \"Republic of Moldova\", \"Romania\", \"Russian Federation\", \"Saudi Arabia\", \"Senegal\", \"Serbia\", \"Singapore\", \"Slovak Republic\", \"Slovenia\", \"Somalia\", \"South Africa\", \"South Korea\", \"Spain\", \"Sri Lanka\", \"Sudan\", \"Swaziland\", \"Sweden\", \"Switzerland\", \"Syrian Arab Republic\", \"Taiwan\", \"Tajikistan\", \"Tanzania\", \"Thailand\", \"Togo\", \"Tunisia\", \"Turkey\", \"Uganda\", \"Ukraine\", \"United Arab Emirates\", \"United Kingdom\", \"United States\", \"Uruguay\", \"Uzbekistan\", \"Venezuela\", \"Vietnam\", \"Yemen\", \"Zimbabwe\"], \"y\": [3, 8, 22, 1, 1, 1, 106, 14, 9, 161, 28, 16, 174, 1, 58, 27, 1, 1, 9, 11, 502, 1, 91, 1, 4, 6, 642, 1, 1, 62, 51, 81, 19, 1, 41, 9, 1, 11, 59, 12, 54, 11, 8, 119, 5, 23, 3, 7, 28, 152, 12, 258, 11, 73, 1, 6, 2, 1, 2, 44, 116, 1, 8088, 387, 23, 1, 66, 78, 143, 11, 49, 10, 36, 36, 1, 2, 1, 17, 5, 1, 20, 3, 1, 20, 2, 86, 2, 3, 5, 181, 4, 11, 1, 24, 2, 1, 38, 128, 40, 102, 1, 23, 3, 138, 10, 8, 1, 5, 23, 93, 248, 113, 10, 3, 5, 4, 174, 378, 9, 3, 51, 183, 35, 13, 1, 96, 73, 166, 145, 12, 1, 87, 52, 2, 57, 2, 3, 26, 1, 17, 250, 7, 187, 24, 443, 4937, 12, 7, 29, 109, 1, 4]}], {\"title\": \"\\u0420\\u0430\\u0441\\u043f\\u0440\\u0435\\u0434\\u0435\\u043b\\u0435\\u043d\\u0438\\u0435 \\u0443\\u0447\\u0430\\u0441\\u0442\\u043d\\u0438\\u043a\\u043e\\u0432 \\u043f\\u043e \\u0441\\u0442\\u0440\\u0430\\u043d\\u0430\\u043c\"}, {\"showLink\": true, \"linkText\": \"Export to plot.ly\"})});</script>"
      ],
      "text/vnd.plotly.v1+html": [
       "<div id=\"403e1248-020c-418d-8d2b-a6dba967067a\" style=\"height: 525px; width: 100%;\" class=\"plotly-graph-div\"></div><script type=\"text/javascript\">require([\"plotly\"], function(Plotly) { window.PLOTLYENV=window.PLOTLYENV || {};window.PLOTLYENV.BASE_URL=\"https://plot.ly\";Plotly.newPlot(\"403e1248-020c-418d-8d2b-a6dba967067a\", [{\"type\": \"bar\", \"x\": [\"Afghanistan\", \"Albania\", \"Algeria\", \"American Samoa\", \"Andorra\", \"Angola\", \"Argentina\", \"Armenia\", \"Asia/Pacific Region\", \"Australia\", \"Austria\", \"Azerbaijan\", \"Bangladesh\", \"Barbados\", \"Belarus\", \"Belgium\", \"Belize\", \"Bermuda\", \"Bolivia\", \"Bosnia and Herzegovina\", \"Brazil\", \"British Indian Ocean Territory\", \"Bulgaria\", \"CN\", \"Cambodia\", \"Cameroon\", \"Canada\", \"Cayman Islands\", \"Chennai\", \"Chile\", \"China\", \"Colombia\", \"Costa Rica\", \"Cote D'Ivoire\", \"Croatia\", \"Cuba\", \"Cura\\u00e7ao\", \"Cyprus\", \"Czech Republic\", \"Czechia\", \"Denmark\", \"Dominican Republic\", \"Ecuador\", \"Egypt\", \"El Salvador\", \"Estonia\", \"Ethiopia\", \"Europe\", \"Finland\", \"France\", \"Georgia\", \"Germany\", \"Ghana\", \"Greece\", \"Guam\", \"Guatemala\", \"Guinea\", \"Haiti\", \"Honduras\", \"Hong Kong\", \"Hungary\", \"Iceland\", \"India\", \"Indonesia\", \"Iran\", \"Iraq\", \"Ireland\", \"Israel\", \"Italy\", \"Jamaica\", \"Japan\", \"Jordan\", \"Kazakhstan\", \"Kenya\", \"Kosovo\", \"Kuwait\", \"Kyrgyzstan\", \"Latvia\", \"Lebanon\", \"Libya\", \"Lithuania\", \"Luxembourg\", \"Macao\", \"Macedonia\", \"Madagascar\", \"Malaysia\", \"Maldives\", \"Malta\", \"Mauritius\", \"Mexico\", \"Moldova\", \"Mongolia\", \"Montenegro\", \"Morocco\", \"Myanmar\", \"Namibia\", \"Nepal\", \"Netherlands\", \"New Zealand\", \"Nigeria\", \"North Korea\", \"Norway\", \"Oman\", \"Pakistan\", \"Palestine\", \"Panama\", \"Papua New Guinea\", \"Paraguay\", \"Peru\", \"Philippines\", \"Poland\", \"Portugal\", \"Puerto Rico\", \"Qatar\", \"Republic of Lithuania\", \"Republic of Moldova\", \"Romania\", \"Russian Federation\", \"Saudi Arabia\", \"Senegal\", \"Serbia\", \"Singapore\", \"Slovak Republic\", \"Slovenia\", \"Somalia\", \"South Africa\", \"South Korea\", \"Spain\", \"Sri Lanka\", \"Sudan\", \"Swaziland\", \"Sweden\", \"Switzerland\", \"Syrian Arab Republic\", \"Taiwan\", \"Tajikistan\", \"Tanzania\", \"Thailand\", \"Togo\", \"Tunisia\", \"Turkey\", \"Uganda\", \"Ukraine\", \"United Arab Emirates\", \"United Kingdom\", \"United States\", \"Uruguay\", \"Uzbekistan\", \"Venezuela\", \"Vietnam\", \"Yemen\", \"Zimbabwe\"], \"y\": [3, 8, 22, 1, 1, 1, 106, 14, 9, 161, 28, 16, 174, 1, 58, 27, 1, 1, 9, 11, 502, 1, 91, 1, 4, 6, 642, 1, 1, 62, 51, 81, 19, 1, 41, 9, 1, 11, 59, 12, 54, 11, 8, 119, 5, 23, 3, 7, 28, 152, 12, 258, 11, 73, 1, 6, 2, 1, 2, 44, 116, 1, 8088, 387, 23, 1, 66, 78, 143, 11, 49, 10, 36, 36, 1, 2, 1, 17, 5, 1, 20, 3, 1, 20, 2, 86, 2, 3, 5, 181, 4, 11, 1, 24, 2, 1, 38, 128, 40, 102, 1, 23, 3, 138, 10, 8, 1, 5, 23, 93, 248, 113, 10, 3, 5, 4, 174, 378, 9, 3, 51, 183, 35, 13, 1, 96, 73, 166, 145, 12, 1, 87, 52, 2, 57, 2, 3, 26, 1, 17, 250, 7, 187, 24, 443, 4937, 12, 7, 29, 109, 1, 4]}], {\"title\": \"\\u0420\\u0430\\u0441\\u043f\\u0440\\u0435\\u0434\\u0435\\u043b\\u0435\\u043d\\u0438\\u0435 \\u0443\\u0447\\u0430\\u0441\\u0442\\u043d\\u0438\\u043a\\u043e\\u0432 \\u043f\\u043e \\u0441\\u0442\\u0440\\u0430\\u043d\\u0430\\u043c\"}, {\"showLink\": true, \"linkText\": \"Export to plot.ly\"})});</script>"
      ]
     },
     "metadata": {},
     "output_type": "display_data"
    }
   ],
   "source": [
    "dfg = df.groupby('CountryNumeric2', as_index = False).RespondentID.count()\n",
    "data = go.Bar(x=dfg.CountryNumeric2, y=dfg.RespondentID)\n",
    "layout = {'title': 'Распределение участников по странам'}\n",
    "fig = go.Figure(data=[data], layout=layout)\n",
    "iplot(fig)"
   ]
  },
  {
   "cell_type": "markdown",
   "metadata": {},
   "source": [
    "### Распределение программистов по полу"
   ]
  },
  {
   "cell_type": "code",
   "execution_count": 16,
   "metadata": {
    "scrolled": false
   },
   "outputs": [
    {
     "data": {
      "application/vnd.plotly.v1+json": {
       "data": [
        {
         "hole": 0.5,
         "labels": [
          "Female",
          "Male",
          "Non-Binary"
         ],
         "type": "pie",
         "values": [
          4122,
          20774,
          125
         ]
        }
       ],
       "layout": {
        "title": "Гендерная диаграмма"
       }
      },
      "text/html": [
       "<div id=\"3b67ae0e-e0ff-483f-afbf-6f5219c87981\" style=\"height: 525px; width: 100%;\" class=\"plotly-graph-div\"></div><script type=\"text/javascript\">require([\"plotly\"], function(Plotly) { window.PLOTLYENV=window.PLOTLYENV || {};window.PLOTLYENV.BASE_URL=\"https://plot.ly\";Plotly.newPlot(\"3b67ae0e-e0ff-483f-afbf-6f5219c87981\", [{\"type\": \"pie\", \"labels\": [\"Female\", \"Male\", \"Non-Binary\"], \"values\": [4122, 20774, 125], \"hole\": 0.5}], {\"title\": \"\\u0413\\u0435\\u043d\\u0434\\u0435\\u0440\\u043d\\u0430\\u044f \\u0434\\u0438\\u0430\\u0433\\u0440\\u0430\\u043c\\u043c\\u0430\"}, {\"showLink\": true, \"linkText\": \"Export to plot.ly\"})});</script>"
      ],
      "text/vnd.plotly.v1+html": [
       "<div id=\"3b67ae0e-e0ff-483f-afbf-6f5219c87981\" style=\"height: 525px; width: 100%;\" class=\"plotly-graph-div\"></div><script type=\"text/javascript\">require([\"plotly\"], function(Plotly) { window.PLOTLYENV=window.PLOTLYENV || {};window.PLOTLYENV.BASE_URL=\"https://plot.ly\";Plotly.newPlot(\"3b67ae0e-e0ff-483f-afbf-6f5219c87981\", [{\"type\": \"pie\", \"labels\": [\"Female\", \"Male\", \"Non-Binary\"], \"values\": [4122, 20774, 125], \"hole\": 0.5}], {\"title\": \"\\u0413\\u0435\\u043d\\u0434\\u0435\\u0440\\u043d\\u0430\\u044f \\u0434\\u0438\\u0430\\u0433\\u0440\\u0430\\u043c\\u043c\\u0430\"}, {\"showLink\": true, \"linkText\": \"Export to plot.ly\"})});</script>"
      ]
     },
     "metadata": {},
     "output_type": "display_data"
    }
   ],
   "source": [
    "dfg = df.groupby('q3Gender', as_index = False).RespondentID.count()\n",
    "data = go.Pie(labels=dfg.q3Gender[1:], values=dfg.RespondentID[1:], hole = 0.5) #поля с NULL исключаются\n",
    "layout = {'title': 'Гендерная диаграмма'}\n",
    "fig = go.Figure(data=[data], layout=layout)\n",
    "iplot(fig)"
   ]
  },
  {
   "cell_type": "markdown",
   "metadata": {},
   "source": [
    "### Оценка востребованости языков программирования"
   ]
  },
  {
   "cell_type": "code",
   "execution_count": 17,
   "metadata": {},
   "outputs": [],
   "source": [
    "lang_list = []\n",
    "lang_name_list = []\n",
    "for i in range(175,194):\n",
    "    lang = df_NumericMap['Data Field'].values[i]\n",
    "    lang_list.append(df_Numeric.groupby(lang).size()['1'])  \n",
    "    \n",
    "    lang_name = df_NumericMap['Label'].values[i]\n",
    "    lang_name_list.append(lang_name)"
   ]
  },
  {
   "cell_type": "code",
   "execution_count": 18,
   "metadata": {
    "scrolled": false
   },
   "outputs": [
    {
     "data": {
      "application/vnd.plotly.v1+json": {
       "data": [
        {
         "labels": [
          "Language agnostic",
          "C",
          "C++",
          "Java",
          "Python",
          "Ruby",
          "Javascript",
          "C#",
          "Go",
          "Scala",
          "Perl",
          "Swift",
          "Pascal",
          "Clojure",
          "PHP",
          "Haskell",
          "Lua",
          "R",
          "Other (please specify)"
         ],
         "type": "pie",
         "values": [
          1886,
          1456,
          1676,
          3651,
          2573,
          643,
          3761,
          1430,
          523,
          420,
          170,
          482,
          35,
          77,
          1134,
          82,
          34,
          280,
          569
         ]
        }
       ],
       "layout": {
        "title": "Востребованность языков программирования среди работодателей"
       }
      },
      "text/html": [
       "<div id=\"7616931a-5f48-4fdb-9f92-ec418e50a786\" style=\"height: 525px; width: 100%;\" class=\"plotly-graph-div\"></div><script type=\"text/javascript\">require([\"plotly\"], function(Plotly) { window.PLOTLYENV=window.PLOTLYENV || {};window.PLOTLYENV.BASE_URL=\"https://plot.ly\";Plotly.newPlot(\"7616931a-5f48-4fdb-9f92-ec418e50a786\", [{\"type\": \"pie\", \"labels\": [\"Language agnostic\", \"C\", \"C++\", \"Java\", \"Python\", \"Ruby\", \"Javascript\", \"C#\", \"Go\", \"Scala\", \"Perl\", \"Swift\", \"Pascal\", \"Clojure\", \"PHP\", \"Haskell\", \"Lua\", \"R\", \"Other (please specify)\"], \"values\": [1886, 1456, 1676, 3651, 2573, 643, 3761, 1430, 523, 420, 170, 482, 35, 77, 1134, 82, 34, 280, 569]}], {\"title\": \"\\u0412\\u043e\\u0441\\u0442\\u0440\\u0435\\u0431\\u043e\\u0432\\u0430\\u043d\\u043d\\u043e\\u0441\\u0442\\u044c \\u044f\\u0437\\u044b\\u043a\\u043e\\u0432 \\u043f\\u0440\\u043e\\u0433\\u0440\\u0430\\u043c\\u043c\\u0438\\u0440\\u043e\\u0432\\u0430\\u043d\\u0438\\u044f \\u0441\\u0440\\u0435\\u0434\\u0438 \\u0440\\u0430\\u0431\\u043e\\u0442\\u043e\\u0434\\u0430\\u0442\\u0435\\u043b\\u0435\\u0439\"}, {\"showLink\": true, \"linkText\": \"Export to plot.ly\"})});</script>"
      ],
      "text/vnd.plotly.v1+html": [
       "<div id=\"7616931a-5f48-4fdb-9f92-ec418e50a786\" style=\"height: 525px; width: 100%;\" class=\"plotly-graph-div\"></div><script type=\"text/javascript\">require([\"plotly\"], function(Plotly) { window.PLOTLYENV=window.PLOTLYENV || {};window.PLOTLYENV.BASE_URL=\"https://plot.ly\";Plotly.newPlot(\"7616931a-5f48-4fdb-9f92-ec418e50a786\", [{\"type\": \"pie\", \"labels\": [\"Language agnostic\", \"C\", \"C++\", \"Java\", \"Python\", \"Ruby\", \"Javascript\", \"C#\", \"Go\", \"Scala\", \"Perl\", \"Swift\", \"Pascal\", \"Clojure\", \"PHP\", \"Haskell\", \"Lua\", \"R\", \"Other (please specify)\"], \"values\": [1886, 1456, 1676, 3651, 2573, 643, 3761, 1430, 523, 420, 170, 482, 35, 77, 1134, 82, 34, 280, 569]}], {\"title\": \"\\u0412\\u043e\\u0441\\u0442\\u0440\\u0435\\u0431\\u043e\\u0432\\u0430\\u043d\\u043d\\u043e\\u0441\\u0442\\u044c \\u044f\\u0437\\u044b\\u043a\\u043e\\u0432 \\u043f\\u0440\\u043e\\u0433\\u0440\\u0430\\u043c\\u043c\\u0438\\u0440\\u043e\\u0432\\u0430\\u043d\\u0438\\u044f \\u0441\\u0440\\u0435\\u0434\\u0438 \\u0440\\u0430\\u0431\\u043e\\u0442\\u043e\\u0434\\u0430\\u0442\\u0435\\u043b\\u0435\\u0439\"}, {\"showLink\": true, \"linkText\": \"Export to plot.ly\"})});</script>"
      ]
     },
     "metadata": {},
     "output_type": "display_data"
    }
   ],
   "source": [
    "data = go.Pie(labels=lang_name_list, values=lang_list)\n",
    "layout = {'title': 'Востребованность языков программирования среди работодателей'}\n",
    "fig = go.Figure(data=[data], layout=layout)\n",
    "iplot(fig)"
   ]
  }
 ],
 "metadata": {
  "kernelspec": {
   "display_name": "Python 3.6",
   "language": "python",
   "name": "python36"
  },
  "language_info": {
   "codemirror_mode": {
    "name": "ipython",
    "version": 3
   },
   "file_extension": ".py",
   "mimetype": "text/x-python",
   "name": "python",
   "nbconvert_exporter": "python",
   "pygments_lexer": "ipython3",
   "version": "3.6.3"
  }
 },
 "nbformat": 4,
 "nbformat_minor": 2
}
